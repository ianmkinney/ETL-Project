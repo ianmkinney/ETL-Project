{
 "cells": [
  {
   "cell_type": "code",
   "execution_count": 21,
   "metadata": {},
   "outputs": [],
   "source": [
    "# Dependencies\n",
    "import pandas as pd\n",
    "import json\n",
    "import requests\n",
    "from config import api_key"
   ]
  },
  {
   "cell_type": "code",
   "execution_count": 22,
   "metadata": {},
   "outputs": [],
   "source": [
    "# List of zipcodes we use to call the OpenWeatherAPI\n",
    "zip_list = [\"80911,us\", \"43068,us\", \"14617,us\", \"02176,us\", \"04106,us\", \"66614,us\", \"46804,us\", \"01602,us\", \"22152,us\", \"27604,us\",]\n",
    "\n",
    "# List of filtered API results per each zipcode\n",
    "rows = []"
   ]
  },
  {
   "cell_type": "code",
   "execution_count": 23,
   "metadata": {},
   "outputs": [
    {
     "name": "stdout",
     "output_type": "stream",
     "text": [
      "The weather API responded with: {'coord': {'lon': -104.7223, 'lat': 38.7457}, 'weather': [{'id': 802, 'main': 'Clouds', 'description': 'scattered clouds', 'icon': '03d'}], 'base': 'stations', 'main': {'temp': 278.81, 'feels_like': 274.33, 'temp_min': 275.15, 'temp_max': 283.15, 'pressure': 1018, 'humidity': 56}, 'visibility': 10000, 'wind': {'speed': 3.09, 'deg': 50}, 'clouds': {'all': 40}, 'dt': 1616252609, 'sys': {'type': 1, 'id': 3678, 'country': 'US', 'sunrise': 1616245311, 'sunset': 1616289036}, 'timezone': -21600, 'id': 0, 'name': 'Colorado Springs', 'cod': 200}.\n",
      "The weather API responded with: {'coord': {'lon': -82.8035, 'lat': 39.9551}, 'weather': [{'id': 800, 'main': 'Clear', 'description': 'clear sky', 'icon': '01d'}], 'base': 'stations', 'main': {'temp': 279.72, 'feels_like': 273.83, 'temp_min': 278.15, 'temp_max': 280.93, 'pressure': 1035, 'humidity': 31}, 'visibility': 10000, 'wind': {'speed': 4.12, 'deg': 120}, 'clouds': {'all': 1}, 'dt': 1616252610, 'sys': {'type': 1, 'id': 3656, 'country': 'US', 'sunrise': 1616240052, 'sunset': 1616283777}, 'timezone': -14400, 'id': 0, 'name': 'Reynoldsburg', 'cod': 200}.\n",
      "The weather API responded with: {'coord': {'lon': -77.5994, 'lat': 43.2203}, 'weather': [{'id': 801, 'main': 'Clouds', 'description': 'few clouds', 'icon': '02d'}], 'base': 'stations', 'main': {'temp': 280.4, 'feels_like': 273.94, 'temp_min': 279.26, 'temp_max': 281.48, 'pressure': 1036, 'humidity': 34}, 'visibility': 10000, 'wind': {'speed': 5.14, 'deg': 280}, 'clouds': {'all': 20}, 'dt': 1616252610, 'sys': {'type': 1, 'id': 5698, 'country': 'US', 'sunrise': 1616238791, 'sunset': 1616282541}, 'timezone': -14400, 'id': 0, 'name': 'Rochester', 'cod': 200}.\n",
      "The weather API responded with: {'coord': {'lon': -71.0632, 'lat': 42.4581}, 'weather': [{'id': 800, 'main': 'Clear', 'description': 'clear sky', 'icon': '01d'}], 'base': 'stations', 'main': {'temp': 280.7, 'feels_like': 275.17, 'temp_min': 279.82, 'temp_max': 281.48, 'pressure': 1031, 'humidity': 29}, 'visibility': 10000, 'wind': {'speed': 3.6, 'deg': 260}, 'clouds': {'all': 1}, 'dt': 1616252604, 'sys': {'type': 1, 'id': 3530, 'country': 'US', 'sunrise': 1616237227, 'sunset': 1616280967}, 'timezone': -14400, 'id': 0, 'name': 'Melrose', 'cod': 200}.\n",
      "The weather API responded with: {'coord': {'lon': -70.2709, 'lat': 43.6318}, 'weather': [{'id': 800, 'main': 'Clear', 'description': 'clear sky', 'icon': '01d'}], 'base': 'stations', 'main': {'temp': 280.3, 'feels_like': 275.89, 'temp_min': 279.26, 'temp_max': 281.48, 'pressure': 1030, 'humidity': 31}, 'visibility': 10000, 'wind': {'speed': 2.06, 'deg': 290}, 'clouds': {'all': 1}, 'dt': 1616252610, 'sys': {'type': 1, 'id': 5454, 'country': 'US', 'sunrise': 1616237032, 'sunset': 1616280782}, 'timezone': -14400, 'id': 0, 'name': 'South Portland', 'cod': 200}.\n",
      "The weather API responded with: {'coord': {'lon': -95.7469, 'lat': 39.0154}, 'weather': [{'id': 800, 'main': 'Clear', 'description': 'clear sky', 'icon': '01d'}], 'base': 'stations', 'main': {'temp': 279.92, 'feels_like': 273.45, 'temp_min': 279.26, 'temp_max': 280.37, 'pressure': 1028, 'humidity': 57}, 'visibility': 10000, 'wind': {'speed': 6.17, 'deg': 170}, 'clouds': {'all': 1}, 'dt': 1616252611, 'sys': {'type': 1, 'id': 4121, 'country': 'US', 'sunrise': 1616243159, 'sunset': 1616286882}, 'timezone': -18000, 'id': 0, 'name': 'Topeka', 'cod': 200}.\n",
      "The weather API responded with: {'coord': {'lon': -85.256, 'lat': 41.0508}, 'weather': [{'id': 800, 'main': 'Clear', 'description': 'clear sky', 'icon': '01d'}], 'base': 'stations', 'main': {'temp': 277.78, 'feels_like': 272.96, 'temp_min': 277.15, 'temp_max': 278.15, 'pressure': 1036, 'humidity': 48}, 'visibility': 10000, 'wind': {'speed': 3.09, 'deg': 110}, 'clouds': {'all': 1}, 'dt': 1616252611, 'sys': {'type': 1, 'id': 4161, 'country': 'US', 'sunrise': 1616240636, 'sunset': 1616284370}, 'timezone': -14400, 'id': 0, 'name': 'Fort Wayne', 'cod': 200}.\n",
      "The weather API responded with: {'coord': {'lon': -71.8417, 'lat': 42.2703}, 'weather': [{'id': 800, 'main': 'Clear', 'description': 'clear sky', 'icon': '01d'}], 'base': 'stations', 'main': {'temp': 279.06, 'feels_like': 272.02, 'temp_min': 278.15, 'temp_max': 280.93, 'pressure': 1031, 'humidity': 30}, 'visibility': 10000, 'wind': {'speed': 5.66, 'deg': 260}, 'clouds': {'all': 1}, 'dt': 1616252611, 'sys': {'type': 1, 'id': 5231, 'country': 'US', 'sunrise': 1616237415, 'sunset': 1616281153}, 'timezone': -14400, 'id': 0, 'name': 'Worcester', 'cod': 200}.\n",
      "The weather API responded with: {'coord': {'lon': -77.2337, 'lat': 38.7757}, 'weather': [{'id': 800, 'main': 'Clear', 'description': 'clear sky', 'icon': '01d'}], 'base': 'stations', 'main': {'temp': 280.16, 'feels_like': 275.74, 'temp_min': 279.15, 'temp_max': 281.48, 'pressure': 1037, 'humidity': 31}, 'visibility': 10000, 'wind': {'speed': 2.06, 'deg': 30}, 'clouds': {'all': 1}, 'dt': 1616252611, 'sys': {'type': 1, 'id': 3777, 'country': 'US', 'sunrise': 1616238721, 'sunset': 1616282435}, 'timezone': -14400, 'id': 0, 'name': 'Springfield', 'cod': 200}.\n",
      "The weather API responded with: {'coord': {'lon': -78.5799, 'lat': 35.8334}, 'weather': [{'id': 803, 'main': 'Clouds', 'description': 'broken clouds', 'icon': '04d'}], 'base': 'stations', 'main': {'temp': 279.62, 'feels_like': 273.41, 'temp_min': 278.15, 'temp_max': 280.93, 'pressure': 1033, 'humidity': 56}, 'visibility': 10000, 'wind': {'speed': 5.71, 'deg': 47, 'gust': 8.63}, 'clouds': {'all': 75}, 'dt': 1616252394, 'sys': {'type': 1, 'id': 5645, 'country': 'US', 'sunrise': 1616239054, 'sunset': 1616282748}, 'timezone': -14400, 'id': 0, 'name': 'Raleigh', 'cod': 200}.\n"
     ]
    }
   ],
   "source": [
    "# Base URL of OpenWeatherAPI\n",
    "url = \"http://api.openweathermap.org/data/2.5/weather?\"\n",
    "for x in zip_list:\n",
    "    # Dictionary that holds params for each API call\n",
    "    params = {\n",
    "        \"zip\" : x,\n",
    "        \"appid\" : api_key\n",
    "    }\n",
    "    # Get weather data\n",
    "    weather_response = requests.get(url, params=params)\n",
    "    weather_json = weather_response.json()\n",
    "    \n",
    "    # Get the temperature from the response\n",
    "    print(f\"The weather API responded with: {weather_json}.\")\n",
    "    \n",
    "    # Create a \"row\" of data for the final weather dataframe\n",
    "    row = {\n",
    "        'zip' : x[0 : 5],\n",
    "        'coord_lon': weather_json['coord']['lon'],\n",
    "        'coord_lat' : weather_json['coord']['lat'],\n",
    "        'weather' : weather_json['weather'][0]['main'],\n",
    "        'weather_description' : weather_json['weather'][0]['description'],\n",
    "        'temp' : weather_json['main']['temp'],\n",
    "        'temp_min' : weather_json['main']['temp_min'],\n",
    "        'temp_max' : weather_json['main']['temp_max'],\n",
    "        'pressure' : weather_json['main']['pressure'],\n",
    "        'humidity' : weather_json['main']['humidity'],\n",
    "        'wind_speed' : weather_json['wind']['speed'],\n",
    "        'city' : weather_json['name']\n",
    "    }\n",
    "    \n",
    "    # Append each row dictionary entry into the \"rows\" list\n",
    "    rows.append(row)"
   ]
  },
  {
   "cell_type": "code",
   "execution_count": 24,
   "metadata": {},
   "outputs": [
    {
     "data": {
      "text/plain": [
       "[{'zip': '80911',\n",
       "  'coord_lon': -104.7223,\n",
       "  'coord_lat': 38.7457,\n",
       "  'weather': 'Clouds',\n",
       "  'weather_description': 'scattered clouds',\n",
       "  'temp': 278.81,\n",
       "  'temp_min': 275.15,\n",
       "  'temp_max': 283.15,\n",
       "  'pressure': 1018,\n",
       "  'humidity': 56,\n",
       "  'wind_speed': 3.09,\n",
       "  'city': 'Colorado Springs'},\n",
       " {'zip': '43068',\n",
       "  'coord_lon': -82.8035,\n",
       "  'coord_lat': 39.9551,\n",
       "  'weather': 'Clear',\n",
       "  'weather_description': 'clear sky',\n",
       "  'temp': 279.72,\n",
       "  'temp_min': 278.15,\n",
       "  'temp_max': 280.93,\n",
       "  'pressure': 1035,\n",
       "  'humidity': 31,\n",
       "  'wind_speed': 4.12,\n",
       "  'city': 'Reynoldsburg'},\n",
       " {'zip': '14617',\n",
       "  'coord_lon': -77.5994,\n",
       "  'coord_lat': 43.2203,\n",
       "  'weather': 'Clouds',\n",
       "  'weather_description': 'few clouds',\n",
       "  'temp': 280.4,\n",
       "  'temp_min': 279.26,\n",
       "  'temp_max': 281.48,\n",
       "  'pressure': 1036,\n",
       "  'humidity': 34,\n",
       "  'wind_speed': 5.14,\n",
       "  'city': 'Rochester'},\n",
       " {'zip': '02176',\n",
       "  'coord_lon': -71.0632,\n",
       "  'coord_lat': 42.4581,\n",
       "  'weather': 'Clear',\n",
       "  'weather_description': 'clear sky',\n",
       "  'temp': 280.7,\n",
       "  'temp_min': 279.82,\n",
       "  'temp_max': 281.48,\n",
       "  'pressure': 1031,\n",
       "  'humidity': 29,\n",
       "  'wind_speed': 3.6,\n",
       "  'city': 'Melrose'},\n",
       " {'zip': '04106',\n",
       "  'coord_lon': -70.2709,\n",
       "  'coord_lat': 43.6318,\n",
       "  'weather': 'Clear',\n",
       "  'weather_description': 'clear sky',\n",
       "  'temp': 280.3,\n",
       "  'temp_min': 279.26,\n",
       "  'temp_max': 281.48,\n",
       "  'pressure': 1030,\n",
       "  'humidity': 31,\n",
       "  'wind_speed': 2.06,\n",
       "  'city': 'South Portland'},\n",
       " {'zip': '66614',\n",
       "  'coord_lon': -95.7469,\n",
       "  'coord_lat': 39.0154,\n",
       "  'weather': 'Clear',\n",
       "  'weather_description': 'clear sky',\n",
       "  'temp': 279.92,\n",
       "  'temp_min': 279.26,\n",
       "  'temp_max': 280.37,\n",
       "  'pressure': 1028,\n",
       "  'humidity': 57,\n",
       "  'wind_speed': 6.17,\n",
       "  'city': 'Topeka'},\n",
       " {'zip': '46804',\n",
       "  'coord_lon': -85.256,\n",
       "  'coord_lat': 41.0508,\n",
       "  'weather': 'Clear',\n",
       "  'weather_description': 'clear sky',\n",
       "  'temp': 277.78,\n",
       "  'temp_min': 277.15,\n",
       "  'temp_max': 278.15,\n",
       "  'pressure': 1036,\n",
       "  'humidity': 48,\n",
       "  'wind_speed': 3.09,\n",
       "  'city': 'Fort Wayne'},\n",
       " {'zip': '01602',\n",
       "  'coord_lon': -71.8417,\n",
       "  'coord_lat': 42.2703,\n",
       "  'weather': 'Clear',\n",
       "  'weather_description': 'clear sky',\n",
       "  'temp': 279.06,\n",
       "  'temp_min': 278.15,\n",
       "  'temp_max': 280.93,\n",
       "  'pressure': 1031,\n",
       "  'humidity': 30,\n",
       "  'wind_speed': 5.66,\n",
       "  'city': 'Worcester'},\n",
       " {'zip': '22152',\n",
       "  'coord_lon': -77.2337,\n",
       "  'coord_lat': 38.7757,\n",
       "  'weather': 'Clear',\n",
       "  'weather_description': 'clear sky',\n",
       "  'temp': 280.16,\n",
       "  'temp_min': 279.15,\n",
       "  'temp_max': 281.48,\n",
       "  'pressure': 1037,\n",
       "  'humidity': 31,\n",
       "  'wind_speed': 2.06,\n",
       "  'city': 'Springfield'},\n",
       " {'zip': '27604',\n",
       "  'coord_lon': -78.5799,\n",
       "  'coord_lat': 35.8334,\n",
       "  'weather': 'Clouds',\n",
       "  'weather_description': 'broken clouds',\n",
       "  'temp': 279.62,\n",
       "  'temp_min': 278.15,\n",
       "  'temp_max': 280.93,\n",
       "  'pressure': 1033,\n",
       "  'humidity': 56,\n",
       "  'wind_speed': 5.71,\n",
       "  'city': 'Raleigh'}]"
      ]
     },
     "execution_count": 24,
     "metadata": {},
     "output_type": "execute_result"
    }
   ],
   "source": [
    "rows"
   ]
  },
  {
   "cell_type": "code",
   "execution_count": 25,
   "metadata": {},
   "outputs": [],
   "source": [
    "# Create dataframe of the OpenWeatherAPI results\n",
    "weather_df = pd.DataFrame(rows)"
   ]
  },
  {
   "cell_type": "code",
   "execution_count": 26,
   "metadata": {},
   "outputs": [
    {
     "name": "stdout",
     "output_type": "stream",
     "text": [
      "     zip  coord_lon  coord_lat weather weather_description    temp  temp_min  \\\n",
      "0  80911  -104.7223    38.7457  Clouds    scattered clouds  278.81    275.15   \n",
      "1  43068   -82.8035    39.9551   Clear           clear sky  279.72    278.15   \n",
      "2  14617   -77.5994    43.2203  Clouds          few clouds  280.40    279.26   \n",
      "3  02176   -71.0632    42.4581   Clear           clear sky  280.70    279.82   \n",
      "4  04106   -70.2709    43.6318   Clear           clear sky  280.30    279.26   \n",
      "5  66614   -95.7469    39.0154   Clear           clear sky  279.92    279.26   \n",
      "6  46804   -85.2560    41.0508   Clear           clear sky  277.78    277.15   \n",
      "7  01602   -71.8417    42.2703   Clear           clear sky  279.06    278.15   \n",
      "8  22152   -77.2337    38.7757   Clear           clear sky  280.16    279.15   \n",
      "9  27604   -78.5799    35.8334  Clouds       broken clouds  279.62    278.15   \n",
      "\n",
      "   temp_max  pressure  humidity  wind_speed              city  \n",
      "0    283.15      1018        56        3.09  Colorado Springs  \n",
      "1    280.93      1035        31        4.12      Reynoldsburg  \n",
      "2    281.48      1036        34        5.14         Rochester  \n",
      "3    281.48      1031        29        3.60           Melrose  \n",
      "4    281.48      1030        31        2.06    South Portland  \n",
      "5    280.37      1028        57        6.17            Topeka  \n",
      "6    278.15      1036        48        3.09        Fort Wayne  \n",
      "7    280.93      1031        30        5.66         Worcester  \n",
      "8    281.48      1037        31        2.06       Springfield  \n",
      "9    280.93      1033        56        5.71           Raleigh  \n"
     ]
    }
   ],
   "source": [
    "print(weather_df)"
   ]
  },
  {
   "cell_type": "code",
   "execution_count": 29,
   "metadata": {},
   "outputs": [],
   "source": [
    "# Output weather dataframe to .csv file\n",
    "weather_df.to_csv('weather_df_v2.csv')"
   ]
  }
 ],
 "metadata": {
  "kernelspec": {
   "display_name": "Python 3",
   "language": "python",
   "name": "python3"
  },
  "language_info": {
   "codemirror_mode": {
    "name": "ipython",
    "version": 3
   },
   "file_extension": ".py",
   "mimetype": "text/x-python",
   "name": "python",
   "nbconvert_exporter": "python",
   "pygments_lexer": "ipython3",
   "version": "3.8.3"
  },
  "varInspector": {
   "cols": {
    "lenName": 16,
    "lenType": 16,
    "lenVar": 40
   },
   "kernels_config": {
    "python": {
     "delete_cmd_postfix": "",
     "delete_cmd_prefix": "del ",
     "library": "var_list.py",
     "varRefreshCmd": "print(var_dic_list())"
    },
    "r": {
     "delete_cmd_postfix": ") ",
     "delete_cmd_prefix": "rm(",
     "library": "var_list.r",
     "varRefreshCmd": "cat(var_dic_list()) "
    }
   },
   "types_to_exclude": [
    "module",
    "function",
    "builtin_function_or_method",
    "instance",
    "_Feature"
   ],
   "window_display": false
  }
 },
 "nbformat": 4,
 "nbformat_minor": 4
}
