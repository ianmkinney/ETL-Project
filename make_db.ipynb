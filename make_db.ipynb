{
 "metadata": {
  "language_info": {
   "codemirror_mode": {
    "name": "ipython",
    "version": 3
   },
   "file_extension": ".py",
   "mimetype": "text/x-python",
   "name": "python",
   "nbconvert_exporter": "python",
   "pygments_lexer": "ipython3",
   "version": "3.9.2-final"
  },
  "orig_nbformat": 2,
  "kernelspec": {
   "name": "python3",
   "display_name": "Python 3.9.2 64-bit",
   "metadata": {
    "interpreter": {
     "hash": "20aa64ee1a4b20dc573904904f01a209dfd20c9da67b28df580937bd005b24aa"
    }
   }
  }
 },
 "nbformat": 4,
 "nbformat_minor": 2,
 "cells": [
  {
   "cell_type": "code",
   "execution_count": 14,
   "metadata": {},
   "outputs": [],
   "source": [
    "import csv, sqlite3"
   ]
  },
  {
   "cell_type": "code",
   "execution_count": 15,
   "metadata": {},
   "outputs": [
    {
     "output_type": "execute_result",
     "data": {
      "text/plain": [
       "<sqlite3.Cursor at 0x1e3eda345e0>"
      ]
     },
     "metadata": {},
     "execution_count": 15
    }
   ],
   "source": [
    "conn = sqlite3.connect(\"database.db\")\n",
    "conn.text_factory = str\n",
    "cur = conn.cursor()\n",
    "cur.execute(\"CREATE TABLE IF NOT EXISTS weather (zip INT, coord_lon FLOAT, coord_lat FLOAT, weather VARCHAR(20), weather_description VARCHAR(50), temp FLOAT, temp_min FLOAT, temp_max FLOAT, pressure INT, humidity INT, wind_speed FLOAT, city VARCHAR)\")"
   ]
  },
  {
   "cell_type": "code",
   "execution_count": 16,
   "metadata": {},
   "outputs": [],
   "source": [
    "import pandas as pd \n",
    "\n",
    "weather = pd.read_csv(\"weather_data.csv\")\n",
    "weather.to_sql('weather', conn, if_exists='replace', index = False, chunksize=100000)"
   ]
  },
  {
   "cell_type": "code",
   "execution_count": 20,
   "metadata": {},
   "outputs": [
    {
     "output_type": "execute_result",
     "data": {
      "text/plain": [
       "<sqlite3.Cursor at 0x1e3eda345e0>"
      ]
     },
     "metadata": {},
     "execution_count": 20
    }
   ],
   "source": [
    "cur.execute(\"DROP TABLE realtor\")"
   ]
  },
  {
   "cell_type": "code",
   "execution_count": 22,
   "metadata": {},
   "outputs": [
    {
     "output_type": "execute_result",
     "data": {
      "text/plain": [
       "<sqlite3.Cursor at 0x1e3eda345e0>"
      ]
     },
     "metadata": {},
     "execution_count": 22
    }
   ],
   "source": [
    "cur.execute(\"CREATE TABLE IF NOT EXISTS realtor (prop_type VARCHAR(30), city VARCHAR(30), postal_code INT, lat FLOAT, lon FLOAT, size INT, price FLOAT)\")"
   ]
  },
  {
   "cell_type": "code",
   "execution_count": 23,
   "metadata": {},
   "outputs": [],
   "source": [
    "import os \n",
    "files = os.listdir(\"output\")\n",
    "\n",
    "for file in files: \n",
    "    path = os.path.join(\"output\", file)\n",
    "    df = pd.read_csv(path)\n",
    "    df = df.rename(columns={\"size (sqft)\": \"size\"})\n",
    "    df.to_sql('realtor', conn, if_exists='append', index = False)"
   ]
  },
  {
   "cell_type": "code",
   "execution_count": 24,
   "metadata": {},
   "outputs": [
    {
     "output_type": "execute_result",
     "data": {
      "text/plain": [
       "        prop_type       city  postal_code        lat        lon    size  \\\n",
       "0   single_family  Worcester       1602.0  42.294006 -71.861004  2912.0   \n",
       "1   single_family  Worcester       1602.0  42.264029 -71.831773  1831.0   \n",
       "2           condo  Worcester       1602.0  42.258662 -71.838505  1188.0   \n",
       "3   single_family  Worcester       1602.0  42.270983 -71.819560  2096.0   \n",
       "4   single_family  Worcester       1602.0  42.284980 -71.874311  2852.0   \n",
       "..            ...        ...          ...        ...        ...     ...   \n",
       "95  single_family  Rochester      14617.0  43.245391 -77.599747  1404.0   \n",
       "96  single_family  Rochester      14617.0  43.245926 -77.601536  1561.0   \n",
       "97  single_family  Rochester      14617.0  43.214811 -77.596465  1656.0   \n",
       "98  single_family  Rochester      14617.0  43.213660 -77.602627  1247.0   \n",
       "99           land  Rochester          NaN  43.219321 -77.583973     NaN   \n",
       "\n",
       "       price  \n",
       "0   610000.0  \n",
       "1   299900.0  \n",
       "2   259900.0  \n",
       "3   469000.0  \n",
       "4   319900.0  \n",
       "..       ...  \n",
       "95  189900.0  \n",
       "96  159900.0  \n",
       "97  175000.0  \n",
       "98  150000.0  \n",
       "99   24900.0  \n",
       "\n",
       "[100 rows x 7 columns]"
      ],
      "text/html": "<div>\n<style scoped>\n    .dataframe tbody tr th:only-of-type {\n        vertical-align: middle;\n    }\n\n    .dataframe tbody tr th {\n        vertical-align: top;\n    }\n\n    .dataframe thead th {\n        text-align: right;\n    }\n</style>\n<table border=\"1\" class=\"dataframe\">\n  <thead>\n    <tr style=\"text-align: right;\">\n      <th></th>\n      <th>prop_type</th>\n      <th>city</th>\n      <th>postal_code</th>\n      <th>lat</th>\n      <th>lon</th>\n      <th>size</th>\n      <th>price</th>\n    </tr>\n  </thead>\n  <tbody>\n    <tr>\n      <th>0</th>\n      <td>single_family</td>\n      <td>Worcester</td>\n      <td>1602.0</td>\n      <td>42.294006</td>\n      <td>-71.861004</td>\n      <td>2912.0</td>\n      <td>610000.0</td>\n    </tr>\n    <tr>\n      <th>1</th>\n      <td>single_family</td>\n      <td>Worcester</td>\n      <td>1602.0</td>\n      <td>42.264029</td>\n      <td>-71.831773</td>\n      <td>1831.0</td>\n      <td>299900.0</td>\n    </tr>\n    <tr>\n      <th>2</th>\n      <td>condo</td>\n      <td>Worcester</td>\n      <td>1602.0</td>\n      <td>42.258662</td>\n      <td>-71.838505</td>\n      <td>1188.0</td>\n      <td>259900.0</td>\n    </tr>\n    <tr>\n      <th>3</th>\n      <td>single_family</td>\n      <td>Worcester</td>\n      <td>1602.0</td>\n      <td>42.270983</td>\n      <td>-71.819560</td>\n      <td>2096.0</td>\n      <td>469000.0</td>\n    </tr>\n    <tr>\n      <th>4</th>\n      <td>single_family</td>\n      <td>Worcester</td>\n      <td>1602.0</td>\n      <td>42.284980</td>\n      <td>-71.874311</td>\n      <td>2852.0</td>\n      <td>319900.0</td>\n    </tr>\n    <tr>\n      <th>...</th>\n      <td>...</td>\n      <td>...</td>\n      <td>...</td>\n      <td>...</td>\n      <td>...</td>\n      <td>...</td>\n      <td>...</td>\n    </tr>\n    <tr>\n      <th>95</th>\n      <td>single_family</td>\n      <td>Rochester</td>\n      <td>14617.0</td>\n      <td>43.245391</td>\n      <td>-77.599747</td>\n      <td>1404.0</td>\n      <td>189900.0</td>\n    </tr>\n    <tr>\n      <th>96</th>\n      <td>single_family</td>\n      <td>Rochester</td>\n      <td>14617.0</td>\n      <td>43.245926</td>\n      <td>-77.601536</td>\n      <td>1561.0</td>\n      <td>159900.0</td>\n    </tr>\n    <tr>\n      <th>97</th>\n      <td>single_family</td>\n      <td>Rochester</td>\n      <td>14617.0</td>\n      <td>43.214811</td>\n      <td>-77.596465</td>\n      <td>1656.0</td>\n      <td>175000.0</td>\n    </tr>\n    <tr>\n      <th>98</th>\n      <td>single_family</td>\n      <td>Rochester</td>\n      <td>14617.0</td>\n      <td>43.213660</td>\n      <td>-77.602627</td>\n      <td>1247.0</td>\n      <td>150000.0</td>\n    </tr>\n    <tr>\n      <th>99</th>\n      <td>land</td>\n      <td>Rochester</td>\n      <td>NaN</td>\n      <td>43.219321</td>\n      <td>-77.583973</td>\n      <td>NaN</td>\n      <td>24900.0</td>\n    </tr>\n  </tbody>\n</table>\n<p>100 rows × 7 columns</p>\n</div>"
     },
     "metadata": {},
     "execution_count": 24
    }
   ],
   "source": [
    "df = pd.read_sql(\"SELECT * FROM realtor LIMIT 100\", con=conn)\n",
    "df"
   ]
  },
  {
   "cell_type": "code",
   "execution_count": null,
   "metadata": {},
   "outputs": [],
   "source": []
  }
 ]
}