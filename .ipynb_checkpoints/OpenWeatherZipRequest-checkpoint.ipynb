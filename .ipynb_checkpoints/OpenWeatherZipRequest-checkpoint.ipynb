{
 "cells": [
  {
   "cell_type": "code",
   "execution_count": 14,
   "metadata": {},
   "outputs": [],
   "source": [
    "# Dependencies\n",
    "import pandas as pd\n",
    "import json\n",
    "import requests\n",
    "from config import api_key"
   ]
  },
  {
   "cell_type": "code",
   "execution_count": 15,
   "metadata": {},
   "outputs": [],
   "source": [
    "# List of zipcodes we use to call the OpenWeatherAPI\n",
    "zip_list = [\"80911,us\", \"43068,us\", \"14617,us\", \"02176,us\", \"04106,us\", \"66614,us\", \"46804,us\", \"01602,us\", \"22152,us\", \"27604,us\",]\n",
    "\n",
    "# List of filtered API results per each zipcode\n",
    "rows = []"
   ]
  },
  {
   "cell_type": "code",
   "execution_count": 16,
   "metadata": {},
   "outputs": [
    {
     "name": "stdout",
     "output_type": "stream",
     "text": [
      "The weather API responded with: {'coord': {'lon': -104.7223, 'lat': 38.7457}, 'weather': [{'id': 803, 'main': 'Clouds', 'description': 'broken clouds', 'icon': '04d'}], 'base': 'stations', 'main': {'temp': 278.48, 'feels_like': 275.17, 'temp_min': 275.15, 'temp_max': 283.15, 'pressure': 1018, 'humidity': 60}, 'visibility': 10000, 'wind': {'speed': 1.54, 'deg': 130}, 'clouds': {'all': 75}, 'dt': 1616251533, 'sys': {'type': 1, 'id': 3678, 'country': 'US', 'sunrise': 1616245311, 'sunset': 1616289036}, 'timezone': -21600, 'id': 0, 'name': 'Colorado Springs', 'cod': 200}.\n",
      "The weather API responded with: {'coord': {'lon': -82.8035, 'lat': 39.9551}, 'weather': [{'id': 800, 'main': 'Clear', 'description': 'clear sky', 'icon': '01d'}], 'base': 'stations', 'main': {'temp': 278.87, 'feels_like': 274.08, 'temp_min': 277.15, 'temp_max': 280.37, 'pressure': 1035, 'humidity': 41}, 'visibility': 10000, 'wind': {'speed': 2.9, 'deg': 89, 'gust': 4.53}, 'clouds': {'all': 1}, 'dt': 1616251533, 'sys': {'type': 1, 'id': 3656, 'country': 'US', 'sunrise': 1616240052, 'sunset': 1616283777}, 'timezone': -14400, 'id': 0, 'name': 'Reynoldsburg', 'cod': 200}.\n",
      "The weather API responded with: {'coord': {'lon': -77.5994, 'lat': 43.2203}, 'weather': [{'id': 800, 'main': 'Clear', 'description': 'clear sky', 'icon': '01d'}], 'base': 'stations', 'main': {'temp': 279.46, 'feels_like': 275.21, 'temp_min': 278.15, 'temp_max': 280.37, 'pressure': 1039, 'humidity': 42}, 'visibility': 10000, 'wind': {'speed': 2.24, 'deg': 306, 'gust': 5.36}, 'clouds': {'all': 0}, 'dt': 1616251351, 'sys': {'type': 3, 'id': 2005469, 'country': 'US', 'sunrise': 1616238791, 'sunset': 1616282541}, 'timezone': -14400, 'id': 0, 'name': 'Rochester', 'cod': 200}.\n",
      "The weather API responded with: {'coord': {'lon': -71.0632, 'lat': 42.4581}, 'weather': [{'id': 800, 'main': 'Clear', 'description': 'clear sky', 'icon': '01d'}], 'base': 'stations', 'main': {'temp': 279.56, 'feels_like': 275.37, 'temp_min': 278.15, 'temp_max': 280.93, 'pressure': 1033, 'humidity': 28}, 'visibility': 10000, 'wind': {'speed': 1.54, 'deg': 0}, 'clouds': {'all': 1}, 'dt': 1616251533, 'sys': {'type': 1, 'id': 3486, 'country': 'US', 'sunrise': 1616237227, 'sunset': 1616280967}, 'timezone': -14400, 'id': 0, 'name': 'Melrose', 'cod': 200}.\n",
      "The weather API responded with: {'coord': {'lon': -70.2709, 'lat': 43.6318}, 'weather': [{'id': 800, 'main': 'Clear', 'description': 'clear sky', 'icon': '01d'}], 'base': 'stations', 'main': {'temp': 279.12, 'feels_like': 275.91, 'temp_min': 278.71, 'temp_max': 279.82, 'pressure': 1029, 'humidity': 36}, 'visibility': 10000, 'wind': {'speed': 0.45, 'deg': 249, 'gust': 2.68}, 'clouds': {'all': 0}, 'dt': 1616251534, 'sys': {'type': 3, 'id': 2035945, 'country': 'US', 'sunrise': 1616237032, 'sunset': 1616280782}, 'timezone': -14400, 'id': 0, 'name': 'South Portland', 'cod': 200}.\n",
      "The weather API responded with: {'coord': {'lon': -95.7469, 'lat': 39.0154}, 'weather': [{'id': 800, 'main': 'Clear', 'description': 'clear sky', 'icon': '01d'}], 'base': 'stations', 'main': {'temp': 278.34, 'feels_like': 273.28, 'temp_min': 276.15, 'temp_max': 279.26, 'pressure': 1027, 'humidity': 75}, 'visibility': 10000, 'wind': {'speed': 4.63, 'deg': 150}, 'clouds': {'all': 1}, 'dt': 1616251534, 'sys': {'type': 1, 'id': 4121, 'country': 'US', 'sunrise': 1616243159, 'sunset': 1616286882}, 'timezone': -18000, 'id': 0, 'name': 'Topeka', 'cod': 200}.\n",
      "The weather API responded with: {'coord': {'lon': -85.256, 'lat': 41.0508}, 'weather': [{'id': 800, 'main': 'Clear', 'description': 'clear sky', 'icon': '01d'}], 'base': 'stations', 'main': {'temp': 276.46, 'feels_like': 272.19, 'temp_min': 274.15, 'temp_max': 277.59, 'pressure': 1036, 'humidity': 60}, 'visibility': 10000, 'wind': {'speed': 2.57, 'deg': 90}, 'clouds': {'all': 1}, 'dt': 1616251638, 'sys': {'type': 1, 'id': 4161, 'country': 'US', 'sunrise': 1616240636, 'sunset': 1616284370}, 'timezone': -14400, 'id': 0, 'name': 'Fort Wayne', 'cod': 200}.\n",
      "The weather API responded with: {'coord': {'lon': -71.8417, 'lat': 42.2703}, 'weather': [{'id': 800, 'main': 'Clear', 'description': 'clear sky', 'icon': '01d'}], 'base': 'stations', 'main': {'temp': 279.19, 'feels_like': 273.68, 'temp_min': 278.15, 'temp_max': 282.04, 'pressure': 1031, 'humidity': 35}, 'visibility': 10000, 'wind': {'speed': 3.7, 'deg': 276, 'gust': 6.94}, 'clouds': {'all': 0}, 'dt': 1616251638, 'sys': {'type': 3, 'id': 2031296, 'country': 'US', 'sunrise': 1616237415, 'sunset': 1616281153}, 'timezone': -14400, 'id': 0, 'name': 'Worcester', 'cod': 200}.\n",
      "The weather API responded with: {'coord': {'lon': -77.2337, 'lat': 38.7757}, 'weather': [{'id': 800, 'main': 'Clear', 'description': 'clear sky', 'icon': '01d'}], 'base': 'stations', 'main': {'temp': 279.78, 'feels_like': 275.34, 'temp_min': 278.71, 'temp_max': 281.48, 'pressure': 1037, 'humidity': 31}, 'visibility': 10000, 'wind': {'speed': 2.06, 'deg': 30}, 'clouds': {'all': 1}, 'dt': 1616251639, 'sys': {'type': 1, 'id': 3777, 'country': 'US', 'sunrise': 1616238721, 'sunset': 1616282435}, 'timezone': -14400, 'id': 0, 'name': 'Springfield', 'cod': 200}.\n",
      "The weather API responded with: {'coord': {'lon': -78.5799, 'lat': 35.8334}, 'weather': [{'id': 803, 'main': 'Clouds', 'description': 'broken clouds', 'icon': '04d'}], 'base': 'stations', 'main': {'temp': 279.21, 'feels_like': 272.95, 'temp_min': 278.15, 'temp_max': 280.37, 'pressure': 1033, 'humidity': 56}, 'visibility': 10000, 'wind': {'speed': 5.71, 'deg': 47, 'gust': 8.63}, 'clouds': {'all': 75}, 'dt': 1616251375, 'sys': {'type': 1, 'id': 5645, 'country': 'US', 'sunrise': 1616239054, 'sunset': 1616282748}, 'timezone': -14400, 'id': 0, 'name': 'Raleigh', 'cod': 200}.\n"
     ]
    }
   ],
   "source": [
    "# Base URL of OpenWeatherAPI\n",
    "url = \"http://api.openweathermap.org/data/2.5/weather?\"\n",
    "for x in zip_list:\n",
    "    # Dictionary that holds params for each API call\n",
    "    params = {\n",
    "        \"zip\" : x,\n",
    "        \"appid\" : api_key\n",
    "    }\n",
    "    # Get weather data\n",
    "    weather_response = requests.get(url, params=params)\n",
    "    weather_json = weather_response.json()\n",
    "    \n",
    "    # Get the temperature from the response\n",
    "    print(f\"The weather API responded with: {weather_json}.\")\n",
    "    \n",
    "    # Create a \"row\" of data for the final weather dataframe\n",
    "    row = {\n",
    "        'zip' : x[0 : 5],\n",
    "        'coord_lon': weather_json['coord']['lon'],\n",
    "        'coord_lat' : weather_json['coord']['lat'],\n",
    "        'weather' : weather_json['weather'][0]['main'],\n",
    "        'weather_description' : weather_json['weather'][0]['description'],\n",
    "        'temp' : weather_json['main']['temp'],\n",
    "        'temp_min' : weather_json['main']['temp_min'],\n",
    "        'temp_max' : weather_json['main']['temp_max'],\n",
    "        'pressure' : weather_json['main']['pressure'],\n",
    "        'humidity' : weather_json['main']['humidity'],\n",
    "        'wind_speed' : weather_json['wind']['speed'],\n",
    "        'city' : weather_json['name']\n",
    "    }\n",
    "    \n",
    "    # Append each row dictionary entry into the \"rows\" list\n",
    "    rows.append(row)"
   ]
  },
  {
   "cell_type": "code",
   "execution_count": 17,
   "metadata": {},
   "outputs": [
    {
     "data": {
      "text/plain": [
       "{'coord': {'lon': -78.5799, 'lat': 35.8334},\n",
       " 'weather': [{'id': 803,\n",
       "   'main': 'Clouds',\n",
       "   'description': 'broken clouds',\n",
       "   'icon': '04d'}],\n",
       " 'base': 'stations',\n",
       " 'main': {'temp': 279.21,\n",
       "  'feels_like': 272.95,\n",
       "  'temp_min': 278.15,\n",
       "  'temp_max': 280.37,\n",
       "  'pressure': 1033,\n",
       "  'humidity': 56},\n",
       " 'visibility': 10000,\n",
       " 'wind': {'speed': 5.71, 'deg': 47, 'gust': 8.63},\n",
       " 'clouds': {'all': 75},\n",
       " 'dt': 1616251375,\n",
       " 'sys': {'type': 1,\n",
       "  'id': 5645,\n",
       "  'country': 'US',\n",
       "  'sunrise': 1616239054,\n",
       "  'sunset': 1616282748},\n",
       " 'timezone': -14400,\n",
       " 'id': 0,\n",
       " 'name': 'Raleigh',\n",
       " 'cod': 200}"
      ]
     },
     "execution_count": 17,
     "metadata": {},
     "output_type": "execute_result"
    }
   ],
   "source": [
    "weather_json"
   ]
  },
  {
   "cell_type": "code",
   "execution_count": 18,
   "metadata": {},
   "outputs": [
    {
     "data": {
      "text/plain": [
       "[{'zip': '80911',\n",
       "  'coord_lon': -104.7223,\n",
       "  'coord_lat': 38.7457,\n",
       "  'weather': 'Clouds',\n",
       "  'weather_description': 'broken clouds',\n",
       "  'temp': 278.48,\n",
       "  'temp_min': 275.15,\n",
       "  'temp_max': 283.15,\n",
       "  'pressure': 1018,\n",
       "  'humidity': 60,\n",
       "  'wind_speed': 1.54,\n",
       "  'city': 'Colorado Springs'},\n",
       " {'zip': '43068',\n",
       "  'coord_lon': -82.8035,\n",
       "  'coord_lat': 39.9551,\n",
       "  'weather': 'Clear',\n",
       "  'weather_description': 'clear sky',\n",
       "  'temp': 278.87,\n",
       "  'temp_min': 277.15,\n",
       "  'temp_max': 280.37,\n",
       "  'pressure': 1035,\n",
       "  'humidity': 41,\n",
       "  'wind_speed': 2.9,\n",
       "  'city': 'Reynoldsburg'},\n",
       " {'zip': '14617',\n",
       "  'coord_lon': -77.5994,\n",
       "  'coord_lat': 43.2203,\n",
       "  'weather': 'Clear',\n",
       "  'weather_description': 'clear sky',\n",
       "  'temp': 279.46,\n",
       "  'temp_min': 278.15,\n",
       "  'temp_max': 280.37,\n",
       "  'pressure': 1039,\n",
       "  'humidity': 42,\n",
       "  'wind_speed': 2.24,\n",
       "  'city': 'Rochester'},\n",
       " {'zip': '02176',\n",
       "  'coord_lon': -71.0632,\n",
       "  'coord_lat': 42.4581,\n",
       "  'weather': 'Clear',\n",
       "  'weather_description': 'clear sky',\n",
       "  'temp': 279.56,\n",
       "  'temp_min': 278.15,\n",
       "  'temp_max': 280.93,\n",
       "  'pressure': 1033,\n",
       "  'humidity': 28,\n",
       "  'wind_speed': 1.54,\n",
       "  'city': 'Melrose'},\n",
       " {'zip': '04106',\n",
       "  'coord_lon': -70.2709,\n",
       "  'coord_lat': 43.6318,\n",
       "  'weather': 'Clear',\n",
       "  'weather_description': 'clear sky',\n",
       "  'temp': 279.12,\n",
       "  'temp_min': 278.71,\n",
       "  'temp_max': 279.82,\n",
       "  'pressure': 1029,\n",
       "  'humidity': 36,\n",
       "  'wind_speed': 0.45,\n",
       "  'city': 'South Portland'},\n",
       " {'zip': '66614',\n",
       "  'coord_lon': -95.7469,\n",
       "  'coord_lat': 39.0154,\n",
       "  'weather': 'Clear',\n",
       "  'weather_description': 'clear sky',\n",
       "  'temp': 278.34,\n",
       "  'temp_min': 276.15,\n",
       "  'temp_max': 279.26,\n",
       "  'pressure': 1027,\n",
       "  'humidity': 75,\n",
       "  'wind_speed': 4.63,\n",
       "  'city': 'Topeka'},\n",
       " {'zip': '46804',\n",
       "  'coord_lon': -85.256,\n",
       "  'coord_lat': 41.0508,\n",
       "  'weather': 'Clear',\n",
       "  'weather_description': 'clear sky',\n",
       "  'temp': 276.46,\n",
       "  'temp_min': 274.15,\n",
       "  'temp_max': 277.59,\n",
       "  'pressure': 1036,\n",
       "  'humidity': 60,\n",
       "  'wind_speed': 2.57,\n",
       "  'city': 'Fort Wayne'},\n",
       " {'zip': '01602',\n",
       "  'coord_lon': -71.8417,\n",
       "  'coord_lat': 42.2703,\n",
       "  'weather': 'Clear',\n",
       "  'weather_description': 'clear sky',\n",
       "  'temp': 279.19,\n",
       "  'temp_min': 278.15,\n",
       "  'temp_max': 282.04,\n",
       "  'pressure': 1031,\n",
       "  'humidity': 35,\n",
       "  'wind_speed': 3.7,\n",
       "  'city': 'Worcester'},\n",
       " {'zip': '22152',\n",
       "  'coord_lon': -77.2337,\n",
       "  'coord_lat': 38.7757,\n",
       "  'weather': 'Clear',\n",
       "  'weather_description': 'clear sky',\n",
       "  'temp': 279.78,\n",
       "  'temp_min': 278.71,\n",
       "  'temp_max': 281.48,\n",
       "  'pressure': 1037,\n",
       "  'humidity': 31,\n",
       "  'wind_speed': 2.06,\n",
       "  'city': 'Springfield'},\n",
       " {'zip': '27604',\n",
       "  'coord_lon': -78.5799,\n",
       "  'coord_lat': 35.8334,\n",
       "  'weather': 'Clouds',\n",
       "  'weather_description': 'broken clouds',\n",
       "  'temp': 279.21,\n",
       "  'temp_min': 278.15,\n",
       "  'temp_max': 280.37,\n",
       "  'pressure': 1033,\n",
       "  'humidity': 56,\n",
       "  'wind_speed': 5.71,\n",
       "  'city': 'Raleigh'}]"
      ]
     },
     "execution_count": 18,
     "metadata": {},
     "output_type": "execute_result"
    }
   ],
   "source": [
    "rows"
   ]
  },
  {
   "cell_type": "code",
   "execution_count": 19,
   "metadata": {},
   "outputs": [],
   "source": [
    "# Create dataframe of the OpenWeatherAPI results\n",
    "weather_df = pd.DataFrame(rows)"
   ]
  },
  {
   "cell_type": "code",
   "execution_count": 20,
   "metadata": {},
   "outputs": [],
   "source": [
    "# Output weather dataframe to .csv file\n",
    "weather_df.to_csv('weather_df.csv')"
   ]
  },
  {
   "cell_type": "code",
   "execution_count": null,
   "metadata": {},
   "outputs": [],
   "source": []
  }
 ],
 "metadata": {
  "kernelspec": {
   "display_name": "Python 3",
   "language": "python",
   "name": "python3"
  },
  "language_info": {
   "codemirror_mode": {
    "name": "ipython",
    "version": 3
   },
   "file_extension": ".py",
   "mimetype": "text/x-python",
   "name": "python",
   "nbconvert_exporter": "python",
   "pygments_lexer": "ipython3",
   "version": "3.8.3"
  },
  "varInspector": {
   "cols": {
    "lenName": 16,
    "lenType": 16,
    "lenVar": 40
   },
   "kernels_config": {
    "python": {
     "delete_cmd_postfix": "",
     "delete_cmd_prefix": "del ",
     "library": "var_list.py",
     "varRefreshCmd": "print(var_dic_list())"
    },
    "r": {
     "delete_cmd_postfix": ") ",
     "delete_cmd_prefix": "rm(",
     "library": "var_list.r",
     "varRefreshCmd": "cat(var_dic_list()) "
    }
   },
   "types_to_exclude": [
    "module",
    "function",
    "builtin_function_or_method",
    "instance",
    "_Feature"
   ],
   "window_display": false
  }
 },
 "nbformat": 4,
 "nbformat_minor": 4
}
